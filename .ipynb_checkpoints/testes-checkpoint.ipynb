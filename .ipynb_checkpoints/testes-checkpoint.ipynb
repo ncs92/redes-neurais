{
 "cells": [
  {
   "cell_type": "code",
   "execution_count": 96,
   "metadata": {},
   "outputs": [
    {
     "name": "stdout",
     "output_type": "stream",
     "text": [
      "[' 593' ' 711' ' 1500' ... ' 1900' ' 1900' ' 1100']\n"
     ]
    }
   ],
   "source": [
    "from keras.models import Sequential\n",
    "from sklearn.model_selection import train_test_split\n",
    "from keras.layers import Dense, Dropout, Activation\n",
    "from keras.optimizers import SGD\n",
    "\n",
    "import numpy as np\n",
    "import csv\n",
    "\n",
    "np.random.seed(7) #fixar a semente pra sempre obter os mesmos resultados\n",
    "#N sei se funciona perfeitamente com a train_test_split\n",
    "\n",
    "\n",
    "from tensorflow.python.client import device_lib\n",
    "valores = csv.reader(open('OnlineNewsPopularity.csv','r'), delimiter=',')\n",
    "\n",
    "linhas = np.array(list(valores))\n",
    "labels = linhas[1, 1:60] #pega a primeira linha com valores inteira\n",
    "\n",
    "X = linhas[1:-1, 1:-1] \n",
    "Ya = linhas[1:-1, -1] #ultima coluna\n",
    "#print(rows)\n",
    "Y = []\n",
    "\n",
    "print(Ya)\n",
    "\n",
    "\n",
    "for y in Ya:\n",
    "    print(y)\n",
    "    if(y > 1200):\n",
    "        Y.insert(index, True)\n",
    "        break\n",
    "    else:\n",
    "        Y.insert(index, False)\n",
    "    \n",
    "    index += 1\n",
    "    \n",
    "\n",
    "X_train, X_test, Y_train, Y_test = train_test_split(X, Y, test_size=0.2, stratify=Y)\n",
    "\n",
    "########## TESTE ################################\n",
    "\n",
    "# model = Sequential()\n",
    "# qnt_entradas = len(labels)\n",
    "# model.add(Dense(128, input_dim=qnt_entradas, init='uniform', activation='relu'))\n",
    "\n",
    "# model.add(Dense(128, init='uniform', activation='relu'))\n",
    "# model.add(Dense(128, init='uniform', activation='relu'))\n",
    "\n",
    "# model.add(Dense(1, activation='sigmoid'))\n",
    "\n",
    "\n",
    "\n",
    "# model.compile(loss='binary_crossentropy', optimizer='adam', metrics=['accuracy']) #adam = descida do gradiente\n",
    "# model.fit(X_train, Y_train, nb_epoch=50, batch_size=10)\n",
    "# scores = model.evaluate(X_test, Y_test)\n",
    "# print(\"%s: %.2f%%\" % (model.metrics_names[1], scores[1]*100))\n",
    "# print(qnt_entradas)"
   ]
  },
  {
   "cell_type": "code",
   "execution_count": null,
   "metadata": {},
   "outputs": [],
   "source": []
  }
 ],
 "metadata": {
  "kernelspec": {
   "display_name": "Python 2",
   "language": "python",
   "name": "python2"
  },
  "language_info": {
   "codemirror_mode": {
    "name": "ipython",
    "version": 2
   },
   "file_extension": ".py",
   "mimetype": "text/x-python",
   "name": "python",
   "nbconvert_exporter": "python",
   "pygments_lexer": "ipython2",
   "version": "2.7.15rc1"
  }
 },
 "nbformat": 4,
 "nbformat_minor": 2
}
