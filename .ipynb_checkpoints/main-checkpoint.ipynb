{
 "cells": [
  {
   "cell_type": "code",
   "execution_count": 9,
   "metadata": {},
   "outputs": [
    {
     "name": "stdout",
     "output_type": "stream",
     "text": [
      "[' 731.0' ' 12.0' ' 219.0' ' 0.663594466988' ' 0.999999992308'\n",
      " ' 0.815384609112' ' 4.0' ' 2.0' ' 1.0' ' 0.0' ' 4.6803652968' ' 5.0'\n",
      " ' 0.0' ' 1.0' ' 0.0' ' 0.0' ' 0.0' ' 0.0' ' 0.0' ' 0.0' ' 0.0' ' 0.0'\n",
      " ' 0.0' ' 0.0' ' 0.0' ' 0.0' ' 0.0' ' 496.0' ' 496.0' ' 496.0' ' 1.0'\n",
      " ' 0.0' ' 0.0' ' 0.0' ' 0.0' ' 0.0' ' 0.0' ' 0.0' ' 0.500331204081'\n",
      " ' 0.378278929586' ' 0.0400046751006' ' 0.0412626477296'\n",
      " ' 0.0401225435029' ' 0.521617145481' ' 0.0925619834711'\n",
      " ' 0.0456621004566' ' 0.013698630137' ' 0.769230769231' ' 0.230769230769'\n",
      " ' 0.378636363636' ' 0.1' ' 0.7' ' -0.35' ' -0.6' ' -0.2' ' 0.5'\n",
      " ' -0.1875' ' 0.0']\n"
     ]
    }
   ],
   "source": [
    "from keras.models import Sequential\n",
    "from sklearn.model_selection import train_test_split\n",
    "from keras.layers import Dense, Dropout, Activation\n",
    "from keras.optimizers import SGD\n",
    "\n",
    "import numpy as np\n",
    "import csv\n",
    "\n",
    "#fixar a semente pra sempre obter os mesmos resultados\n",
    "#N sei se funciona perfeitamente com a train_test_split\n",
    "np.random.seed(7) \n",
    "\n",
    "from tensorflow.python.client import device_lib\n",
    "reader = csv.reader(open('OnlineNewsPopularity.csv','r'), delimiter=',')\n",
    "\n",
    "rows = np.array(list(reader))\n",
    "labels = rows[1, 1:-2]\n",
    "X = rows[1:-1, 1:-2] \n",
    "Ya = rows[1:-1, -1] #ultima coluna\n",
    "#print(rows)\n",
    "Y = []\n",
    "\n",
    "index = 0\n",
    "\n",
    "for y in Ya:\n",
    "    if(int(y) > 1200):\n",
    "        Y.insert(index, True)\n",
    "        \n",
    "    else:\n",
    "        Y.insert(index, False)\n",
    "    \n",
    "    index += 1\n",
    "#print(rows)\n",
    "\n",
    "# print(labels)\n",
    "\n",
    "X_train, X_test, Y_train, Y_test = train_test_split(X, Y, test_size=0.2, stratify=Y)\n",
    "#X_train, X_validation, Y_train, Y_validation = train_test_split(X_train, Y_train, test_size=0.2, stratify=Y_train)\n",
    "\n",
    "########################### TESTE ################################\n",
    "\n",
    "model = Sequential()\n",
    "qnt_entradas = len(labels)\n",
    "model.add(Dense(128, input_dim=qnt_entradas, init='uniform', activation='relu'))\n",
    "\n",
    "model.add(Dense(128, init='uniform', activation='relu'))\n",
    "model.add(Dense(128, init='uniform', activation='relu'))\n",
    "\n",
    "model.add(Dense(1, activation='sigmoid'))\n",
    "\n",
    "model.compile(loss='binary_crossentropy', optimizer='adam', metrics=['accuracy']) #adam = descida do gradiente\n",
    "model.fit(X_train, Y_train, nb_epoch=50, batch_size=10)\n",
    "scores = model.evaluate(X_test, Y_test)\n",
    "print(\"%s: %.2f%%\" % (model.metrics_names[1], scores[1]*100))\n",
    "print(qnt_entradas)\n",
    "#train_test_split()\n",
    "#print(labels)"
   ]
  },
  {
   "cell_type": "code",
   "execution_count": null,
   "metadata": {},
   "outputs": [],
   "source": []
  }
 ],
 "metadata": {
  "kernelspec": {
   "display_name": "Python 2",
   "language": "python",
   "name": "python2"
  },
  "language_info": {
   "codemirror_mode": {
    "name": "ipython",
    "version": 2
   },
   "file_extension": ".py",
   "mimetype": "text/x-python",
   "name": "python",
   "nbconvert_exporter": "python",
   "pygments_lexer": "ipython2",
   "version": "2.7.15rc1"
  }
 },
 "nbformat": 4,
 "nbformat_minor": 2
}
