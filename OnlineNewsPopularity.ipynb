{
 "cells": [
  {
   "cell_type": "code",
   "execution_count": 2,
   "metadata": {},
   "outputs": [
    {
     "name": "stdout",
     "output_type": "stream",
     "text": [
      "[LibSVM][[1946 3079]\n",
      " [1351 5517]]\n",
      "              precision    recall  f1-score   support\n",
      "\n",
      "       False       0.59      0.39      0.47      5025\n",
      "        True       0.64      0.80      0.71      6868\n",
      "\n",
      "   micro avg       0.63      0.63      0.63     11893\n",
      "   macro avg       0.62      0.60      0.59     11893\n",
      "weighted avg       0.62      0.63      0.61     11893\n",
      "\n"
     ]
    }
   ],
   "source": [
    "from sklearn import svm\n",
    "from keras.models import Sequential\n",
    "from sklearn.model_selection import train_test_split\n",
    "from keras.layers import Dense, Dropout, Activation\n",
    "from keras.optimizers import SGD\n",
    "\n",
    "import numpy as np\n",
    "import csv\n",
    "from sklearn.metrics import classification_report, confusion_matrix\n",
    "np.random.seed(7) #fixar a semente pra sempre obter os mesmos resultados\n",
    "#N sei se funciona perfeitamente com a train_test_split\n",
    "from tensorflow.python.client import device_lib\n",
    "from sklearn.svm import SVC\n",
    "reader = csv.reader(open('OnlineNewsPopularity.csv','r'), delimiter=',')\n",
    "\n",
    "rows = np.array(list(reader))\n",
    "labels = rows[1, 1:-1]\n",
    "X = rows[1:-1, 1:-1] \n",
    "Ya = rows[1:-1, -1] #ultima coluna\n",
    "#print(rows)\n",
    "Y = []\n",
    "\n",
    "index = 0\n",
    "\n",
    "for y in Ya:\n",
    "    if(int(y) > 1200):\n",
    "        Y.insert(index, True)\n",
    "        \n",
    "    else:\n",
    "        Y.insert(index, False)\n",
    "    \n",
    "    index += 1\n",
    "\n",
    "X_train, X_test, Y_train, Y_test = train_test_split(X, Y, test_size=0.3, stratify=Y)\n",
    "\n",
    "svclassifier = SVC(kernel='linear', verbose=True)\n",
    "svclassifier.fit(X_train, Y_train)\n",
    "y_pred = svclassifier.predict(X_test)\n",
    "\n",
    "print(confusion_matrix(Y_test,y_pred))\n",
    "print(classification_report(Y_test,y_pred))"
   ]
  }
 ],
 "metadata": {
  "kernelspec": {
   "display_name": "Python 3",
   "language": "python",
   "name": "python3"
  },
  "language_info": {
   "codemirror_mode": {
    "name": "ipython",
    "version": 3
   },
   "file_extension": ".py",
   "mimetype": "text/x-python",
   "name": "python",
   "nbconvert_exporter": "python",
   "pygments_lexer": "ipython3",
   "version": "3.6.7rc2"
  }
 },
 "nbformat": 4,
 "nbformat_minor": 2
}
