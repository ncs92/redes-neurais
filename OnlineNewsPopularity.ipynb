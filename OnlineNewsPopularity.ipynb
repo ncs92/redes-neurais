{
 "cells": [
  {
   "cell_type": "code",
   "execution_count": 1,
   "metadata": {},
   "outputs": [
    {
     "name": "stderr",
     "output_type": "stream",
     "text": [
      "Using TensorFlow backend.\n"
     ]
    },
    {
     "name": "stdout",
     "output_type": "stream",
     "text": [
      "Epoch 1/20\n",
      "1000/1000 [==============================] - 1s 884us/step - loss: 0.7175 - acc: 0.5160\n",
      "Epoch 2/20\n",
      "1000/1000 [==============================] - 0s 14us/step - loss: 0.7091 - acc: 0.5190\n",
      "Epoch 3/20\n",
      "1000/1000 [==============================] - 0s 17us/step - loss: 0.7059 - acc: 0.5110\n",
      "Epoch 4/20\n",
      "1000/1000 [==============================] - 0s 16us/step - loss: 0.6982 - acc: 0.5190\n",
      "Epoch 5/20\n",
      "1000/1000 [==============================] - 0s 15us/step - loss: 0.7017 - acc: 0.4950\n",
      "Epoch 6/20\n",
      "1000/1000 [==============================] - 0s 17us/step - loss: 0.7043 - acc: 0.5020\n",
      "Epoch 7/20\n",
      "1000/1000 [==============================] - 0s 14us/step - loss: 0.6966 - acc: 0.5290\n",
      "Epoch 8/20\n",
      "1000/1000 [==============================] - 0s 16us/step - loss: 0.7009 - acc: 0.5080\n",
      "Epoch 9/20\n",
      "1000/1000 [==============================] - 0s 15us/step - loss: 0.6918 - acc: 0.5260\n",
      "Epoch 10/20\n",
      "1000/1000 [==============================] - 0s 14us/step - loss: 0.6911 - acc: 0.5300\n",
      "Epoch 11/20\n",
      "1000/1000 [==============================] - 0s 17us/step - loss: 0.6919 - acc: 0.5130\n",
      "Epoch 12/20\n",
      "1000/1000 [==============================] - 0s 14us/step - loss: 0.6924 - acc: 0.5180\n",
      "Epoch 13/20\n",
      "1000/1000 [==============================] - 0s 16us/step - loss: 0.6925 - acc: 0.5360\n",
      "Epoch 14/20\n",
      "1000/1000 [==============================] - 0s 15us/step - loss: 0.6948 - acc: 0.5060\n",
      "Epoch 15/20\n",
      "1000/1000 [==============================] - 0s 16us/step - loss: 0.6931 - acc: 0.5190\n",
      "Epoch 16/20\n",
      "1000/1000 [==============================] - 0s 15us/step - loss: 0.6941 - acc: 0.4990\n",
      "Epoch 17/20\n",
      "1000/1000 [==============================] - 0s 15us/step - loss: 0.6905 - acc: 0.5370\n",
      "Epoch 18/20\n",
      "1000/1000 [==============================] - 0s 17us/step - loss: 0.6879 - acc: 0.5460\n",
      "Epoch 19/20\n",
      "1000/1000 [==============================] - 0s 15us/step - loss: 0.6913 - acc: 0.5190\n",
      "Epoch 20/20\n",
      "1000/1000 [==============================] - 0s 14us/step - loss: 0.6828 - acc: 0.5700\n",
      "100/100 [==============================] - 0s 559us/step\n"
     ]
    }
   ],
   "source": [
    "import numpy as np\n",
    "from keras.models import Sequential\n",
    "from keras.layers import Dense, Dropout\n",
    "from sklearn.model_selection import train_test_split \n",
    "# from sklearn.model_selection import GridSearchCV\n",
    "\n",
    "# Generate dummy data\n",
    "x_train = np.random.random((1000, 20))\n",
    "y_train = np.random.randint(2, size=(1000, 1))\n",
    "x_test = np.random.random((100, 20))\n",
    "y_test = np.random.randint(2, size=(100, 1))\n",
    "\n",
    "# x_train, x_test, y_train, y_test  = train_test_split(x,y, test_size=0.2 , stratify = True)\n",
    "\n",
    "model = Sequential()\n",
    "model.add(Dense(64, input_dim=20, activation='relu'))\n",
    "model.add(Dropout(0.5))\n",
    "model.add(Dense(64, activation='relu'))\n",
    "model.add(Dropout(0.5))\n",
    "model.add(Dense(1, activation='sigmoid'))\n",
    "\n",
    "model.compile(loss='binary_crossentropy',\n",
    "              optimizer='rmsprop',\n",
    "              metrics=['accuracy'])\n",
    "\n",
    "model.fit(x_train, y_train,\n",
    "          epochs=20,\n",
    "          batch_size=128)\n",
    "score = model.evaluate(x_test, y_test, batch_size=128)\n",
    "\n"
   ]
  }
 ],
 "metadata": {
  "kernelspec": {
   "display_name": "Python 2",
   "language": "python",
   "name": "python2"
  },
  "language_info": {
   "codemirror_mode": {
    "name": "ipython",
    "version": 2
   },
   "file_extension": ".py",
   "mimetype": "text/x-python",
   "name": "python",
   "nbconvert_exporter": "python",
   "pygments_lexer": "ipython2",
   "version": "2.7.15rc1"
  }
 },
 "nbformat": 4,
 "nbformat_minor": 2
}
